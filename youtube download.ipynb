{
 "cells": [
  {
   "cell_type": "code",
   "execution_count": 1,
   "metadata": {},
   "outputs": [],
   "source": [
    "import yt_dlp"
   ]
  },
  {
   "cell_type": "code",
   "execution_count": null,
   "metadata": {},
   "outputs": [],
   "source": [
    "import json\n",
    "\n",
    "import yt_dlp\n",
    "from yt_dlp.postprocessor.common import PostProcessor\n",
    "\n",
    "\n",
    "class MyLogger:\n",
    "    def debug(self, msg):\n",
    "        # For compatability with youtube-dl, both debug and info are passed into debug\n",
    "        # You can distinguish them by the prefix '[debug] '\n",
    "        if msg.startswith('[debug] '):\n",
    "            pass\n",
    "        else:\n",
    "            self.info(msg)\n",
    "\n",
    "    def info(self, msg):\n",
    "        pass\n",
    "\n",
    "    def warning(self, msg):\n",
    "        pass\n",
    "\n",
    "    def error(self, msg):\n",
    "        print(msg)\n",
    "\n",
    "\n",
    "class MyCustomPP(PostProcessor):\n",
    "    def run(self, info):\n",
    "        self.to_screen('Doing stuff')\n",
    "        return [], info\n",
    "\n",
    "\n",
    "def my_hook(d):\n",
    "    if d['status'] == 'finished':\n",
    "        print('Done downloading, now converting ...')\n",
    "\n",
    "\n",
    "ydl_opts = {\n",
    "    'format': 'bestaudio/best',\n",
    "    'postprocessors': [{\n",
    "        'key': 'FFmpegExtractAudio',\n",
    "        'preferredcodec': 'mp3',\n",
    "        'preferredquality': '192',\n",
    "    }],\n",
    "    'logger': MyLogger(),\n",
    "    'progress_hooks': [my_hook],\n",
    "}\n",
    "\n",
    "with yt_dlp.YoutubeDL(ydl_opts) as ydl:\n",
    "    ydl.add_post_processor(MyCustomPP())\n",
    "    info = ydl.extract_info('https://www.youtube.com/watch?v=BaW_jenozKc')\n",
    "    print(json.dumps(ydl.sanitize_info(info)))"
   ]
  },
  {
   "cell_type": "code",
   "execution_count": null,
   "metadata": {},
   "outputs": [],
   "source": []
  }
 ],
 "metadata": {
  "interpreter": {
   "hash": "01c86fc3a30789b682a94d68767c5dd1b24d049beb92798c5e68460c8f8d0c9c"
  },
  "kernelspec": {
   "display_name": "Python 3.8.8 ('base')",
   "language": "python",
   "name": "python3"
  },
  "language_info": {
   "codemirror_mode": {
    "name": "ipython",
    "version": 3
   },
   "file_extension": ".py",
   "mimetype": "text/x-python",
   "name": "python",
   "nbconvert_exporter": "python",
   "pygments_lexer": "ipython3",
   "version": "3.8.8"
  },
  "orig_nbformat": 4
 },
 "nbformat": 4,
 "nbformat_minor": 2
}
